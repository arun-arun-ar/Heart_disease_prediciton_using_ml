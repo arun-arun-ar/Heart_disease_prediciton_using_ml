{
 "cells": [
  {
   "cell_type": "markdown",
   "id": "6dea2694",
   "metadata": {},
   "source": [
    "##  About Dataset\n",
    "Context\n",
    "This database contains 76 attributes, but all published experiments refer to using a subset of 14 of them. In particular, the Cleveland database is the only one that has been used by ML researchers to\n",
    "this date. The \"goal\" field refers to the presence of heart disease in the patient. It is integer-valued from 0 (no presence) to 4.\n",
    "\n",
    "Acknowledgements\n",
    "Creators:\n",
    "\n",
    "Hungarian Institute of Cardiology. Budapest: Andras Janosi, M.D.\n",
    "University Hospital, Zurich, Switzerland: William Steinbrunn, M.D.\n",
    "University Hospital, Basel, Switzerland: Matthias Pfisterer, M.D.\n",
    "V.A. Medical Center, Long Beach and Cleveland Clinic Foundation: Robert Detrano, M.D., PhD.\n",
    "Donor:\n",
    "David W. Aha (aha '@' ics.uci.edu) (714) 856-8779\n",
    "\n",
    "Inspiration\n",
    "Experiments with the Cleveland database have concentrated on simply attempting to distinguish presence (values 1,2,3,4) from absence (value 0).\n"
   ]
  },
  {
   "cell_type": "markdown",
   "id": "c5d8fd4b",
   "metadata": {},
   "source": [
    "## Heart Disease Introduciton.\n",
    "\"Heart disease is a general term for ailments that affect the heart and circulatory system. Cardiovascular illnesses are another name for them. Around the world, it is a significant contributor to disability. Since the heart is one of the most important organs in the body, ailments that affect it also impact other organs and other parts of the body. Heart disorders can take many different shapes and forms. The most frequent ones result in heart failure and heart attacks by causing constriction or blockage of the coronary arteries, heart valve problems, enlargement of the heart, and other symptoms.\"\n",
    " "
   ]
  },
  {
   "cell_type": "markdown",
   "id": "4f1fa506",
   "metadata": {},
   "source": [
    "# Improting libraries ."
   ]
  },
  {
   "cell_type": "code",
   "execution_count": 1,
   "id": "239c68a2",
   "metadata": {},
   "outputs": [
    {
     "name": "stdout",
     "output_type": "stream",
     "text": [
      "['.ipynb_checkpoints', 'heart.csv', 'Heart_Disease_Prediction_Using_Machine_Learning.ipynb', 'README.md', 'requirements.txt']\n"
     ]
    }
   ],
   "source": [
    "#libraries \n",
    "import numpy as np\n",
    "import pandas as pd\n",
    "import matplotlib.pyplot as plt\n",
    "import seaborn as sns\n",
    "\n",
    "%matplotlib inline\n",
    "\n",
    "import os\n",
    "print(os.listdir())\n",
    "\n",
    "import warnings\n",
    "warnings.filterwarnings('ignore')"
   ]
  },
  {
   "cell_type": "markdown",
   "id": "c26e3fdc",
   "metadata": {},
   "source": [
    "# Load Dataset"
   ]
  },
  {
   "cell_type": "code",
   "execution_count": 2,
   "id": "903bd295",
   "metadata": {},
   "outputs": [],
   "source": [
    "dataset = pd.read_csv(\"heart.csv\")"
   ]
  },
  {
   "cell_type": "code",
   "execution_count": 3,
   "id": "4217fc93",
   "metadata": {},
   "outputs": [
    {
     "data": {
      "text/plain": [
       "pandas.core.frame.DataFrame"
      ]
     },
     "execution_count": 3,
     "metadata": {},
     "output_type": "execute_result"
    }
   ],
   "source": [
    "type(dataset)"
   ]
  },
  {
   "cell_type": "code",
   "execution_count": 4,
   "id": "8e00e124",
   "metadata": {},
   "outputs": [
    {
     "data": {
      "text/plain": [
       "(303, 14)"
      ]
     },
     "execution_count": 4,
     "metadata": {},
     "output_type": "execute_result"
    }
   ],
   "source": [
    "# shape of dataset\n",
    "dataset.shape"
   ]
  },
  {
   "cell_type": "code",
   "execution_count": 5,
   "id": "03de8d9f",
   "metadata": {},
   "outputs": [
    {
     "name": "stdout",
     "output_type": "stream",
     "text": [
      "<class 'pandas.core.frame.DataFrame'>\n",
      "RangeIndex: 303 entries, 0 to 302\n",
      "Data columns (total 14 columns):\n",
      " #   Column    Non-Null Count  Dtype  \n",
      "---  ------    --------------  -----  \n",
      " 0   age       303 non-null    int64  \n",
      " 1   sex       303 non-null    int64  \n",
      " 2   cp        303 non-null    int64  \n",
      " 3   trestbps  303 non-null    int64  \n",
      " 4   chol      303 non-null    int64  \n",
      " 5   fbs       303 non-null    int64  \n",
      " 6   restecg   303 non-null    int64  \n",
      " 7   thalach   303 non-null    int64  \n",
      " 8   exang     303 non-null    int64  \n",
      " 9   oldpeak   303 non-null    float64\n",
      " 10  slope     303 non-null    int64  \n",
      " 11  ca        303 non-null    int64  \n",
      " 12  thal      303 non-null    int64  \n",
      " 13  target    303 non-null    int64  \n",
      "dtypes: float64(1), int64(13)\n",
      "memory usage: 33.3 KB\n"
     ]
    }
   ],
   "source": [
    "#dataset information\n",
    "dataset.info()"
   ]
  },
  {
   "cell_type": "markdown",
   "id": "37c535fa",
   "metadata": {},
   "source": [
    "###### From the above information we can see that there is no null value in the dataset."
   ]
  },
  {
   "cell_type": "markdown",
   "id": "4b660eeb",
   "metadata": {},
   "source": [
    "### Columns of our dataset"
   ]
  },
  {
   "cell_type": "code",
   "execution_count": 6,
   "id": "95be00f7",
   "metadata": {},
   "outputs": [
    {
     "name": "stdout",
     "output_type": "stream",
     "text": [
      "age:\t\t\tage\n",
      "sex:\t\t\t1: male, 0: female\n",
      "cp:\t\t\tchest pain type, 1: typical angina, 2: atypical angina, 3: non-anginal pain, 4: asymptomatic\n",
      "trestbps:\t\t\tresting blood pressure\n",
      "chol:\t\t\t serum cholestoral in mg/dl\n",
      "fbs:\t\t\tfasting blood sugar > 120 mg/dl\n",
      "restecg:\t\t\tresting electrocardiographic results (values 0,1,2)\n",
      "thalach:\t\t\t maximum heart rate achieved\n",
      "exang:\t\t\texercise induced angina\n",
      "oldpeak:\t\t\toldpeak = ST depression induced by exercise relative to rest\n",
      "slope:\t\t\tthe slope of the peak exercise ST segment\n",
      "ca:\t\t\tnumber of major vessels (0-3) colored by flourosopy\n",
      "thal:\t\t\tthal: 3 = normal; 6 = fixed defect; 7 = reversable defect\n"
     ]
    }
   ],
   "source": [
    "info = [\"age\",\"1: male, 0: female\",\"chest pain type, 1: typical angina, 2: atypical angina, 3: non-anginal pain, 4: asymptomatic\",\"resting blood pressure\",\" serum cholestoral in mg/dl\",\"fasting blood sugar > 120 mg/dl\",\"resting electrocardiographic results (values 0,1,2)\",\" maximum heart rate achieved\",\"exercise induced angina\",\"oldpeak = ST depression induced by exercise relative to rest\",\"the slope of the peak exercise ST segment\",\"number of major vessels (0-3) colored by flourosopy\",\"thal: 3 = normal; 6 = fixed defect; 7 = reversable defect\"]\n",
    "\n",
    "# for loop to print columns of our dataset\n",
    "for i in range(len(info)):\n",
    "    print(dataset.columns[i]+\":\\t\\t\\t\"+info[i])"
   ]
  },
  {
   "cell_type": "markdown",
   "id": "1ab50619",
   "metadata": {},
   "source": [
    "## Target variable analysis."
   ]
  },
  {
   "cell_type": "code",
   "execution_count": 7,
   "id": "6b467111",
   "metadata": {},
   "outputs": [
    {
     "data": {
      "text/plain": [
       "count    303.000000\n",
       "mean       0.544554\n",
       "std        0.498835\n",
       "min        0.000000\n",
       "25%        0.000000\n",
       "50%        1.000000\n",
       "75%        1.000000\n",
       "max        1.000000\n",
       "Name: target, dtype: float64"
      ]
     },
     "execution_count": 7,
     "metadata": {},
     "output_type": "execute_result"
    }
   ],
   "source": [
    "dataset[\"target\"].describe()"
   ]
  },
  {
   "cell_type": "markdown",
   "id": "4e2fd7f4",
   "metadata": {},
   "source": [
    "#### The above information shows clearly, this is a classification problem, with the target variable having values '0' and '1' "
   ]
  },
  {
   "cell_type": "markdown",
   "id": "ad7c815c",
   "metadata": {},
   "source": [
    "### Checking correlation between columns. "
   ]
  },
  {
   "cell_type": "code",
   "execution_count": 8,
   "id": "2688ae43",
   "metadata": {},
   "outputs": [
    {
     "name": "stdout",
     "output_type": "stream",
     "text": [
      "fbs         0.028046\n",
      "chol        0.085239\n",
      "restecg     0.137230\n",
      "trestbps    0.144931\n",
      "age         0.225439\n",
      "sex         0.280937\n",
      "thal        0.344029\n",
      "slope       0.345877\n",
      "ca          0.391724\n",
      "thalach     0.421741\n",
      "oldpeak     0.430696\n",
      "cp          0.433798\n",
      "exang       0.436757\n",
      "target      1.000000\n",
      "Name: target, dtype: float64\n"
     ]
    }
   ],
   "source": [
    "print(dataset.corr()[\"target\"].abs().sort_values())"
   ]
  },
  {
   "cell_type": "markdown",
   "id": "c5e270b7",
   "metadata": {},
   "source": [
    "##### The above result shows that most columns are moderately correlated with target, but 'fbs' is very weakly correlated.\n"
   ]
  },
  {
   "cell_type": "markdown",
   "id": "8bf03122",
   "metadata": {},
   "source": [
    "### Exploratory Data Analysis (EDA)"
   ]
  },
  {
   "cell_type": "code",
   "execution_count": 9,
   "id": "fd39621c",
   "metadata": {},
   "outputs": [
    {
     "name": "stdout",
     "output_type": "stream",
     "text": [
      "1    165\n",
      "0    138\n",
      "Name: target, dtype: int64\n"
     ]
    },
    {
     "data": {
      "image/png": "[encoded data removed]",
      "text/plain": [
       "<Figure size 640x480 with 1 Axes>"
      ]
     },
     "metadata": {},
     "output_type": "display_data"
    }
   ],
   "source": [
    "y = dataset[\"target\"]\n",
    "\n",
    "sns.countplot(y)\n",
    "\n",
    "target_temp = dataset.target.value_counts()\n",
    "\n",
    "print(target_temp)"
   ]
  },
  {
   "cell_type": "code",
   "execution_count": 10,
   "id": "50a18f6c",
   "metadata": {},
   "outputs": [
    {
     "name": "stdout",
     "output_type": "stream",
     "text": [
      "Percent of patients with healthy hearts: 45.5446\n",
      "Percent of people with heart problems: 54.4554\n"
     ]
    }
   ],
   "source": [
    "## percentages of heart patients\n",
    "print(\"Percent of patients with healthy hearts: \"+str(round(target_temp[0] * 100/303,4 )))\n",
    "print(\"Percent of people with heart problems: \"+str(round(target_temp[1] * 100/303,4 )))"
   ]
  },
  {
   "cell_type": "markdown",
   "id": "f04b162c",
   "metadata": {},
   "source": [
    "## Analysis of 'sex', 'cp', 'fbs', 'restecg', 'exang', 'slope', 'ca' and 'thal' features."
   ]
  },
  {
   "cell_type": "markdown",
   "id": "2e2016a2",
   "metadata": {},
   "source": [
    "## Sex "
   ]
  },
  {
   "cell_type": "code",
   "execution_count": 11,
   "id": "a4c035ae",
   "metadata": {},
   "outputs": [
    {
     "data": {
      "text/plain": [
       "array([1, 0], dtype=int64)"
      ]
     },
     "execution_count": 11,
     "metadata": {},
     "output_type": "execute_result"
    }
   ],
   "source": [
    "# Lets check the uniqeue features of \"Sex\"\n",
    "dataset[\"sex\"].unique()"
   ]
  },
  {
   "cell_type": "code",
   "execution_count": 12,
   "id": "66acbdaa",
   "metadata": {},
   "outputs": [
    {
     "data": {
      "text/plain": [
       "<AxesSubplot:xlabel='sex', ylabel='target'>"
      ]
     },
     "execution_count": 12,
     "metadata": {},
     "output_type": "execute_result"
    },
    {
     "data": {
      "image/png": "[encoded data removed]",
      "text/plain": [
       "<Figure size 640x480 with 1 Axes>"
      ]
     },
     "metadata": {},
     "output_type": "display_data"
    }
   ],
   "source": [
    "# Now lets visualize the information on bargraph\n",
    "sns.barplot(dataset[\"sex\"],y)"
   ]
  },
  {
   "cell_type": "markdown",
   "id": "5658c436",
   "metadata": {},
   "source": [
    "##### From the above bargraph we cah see that females are more likely to suffer form heart diseases. "
   ]
  },
  {
   "cell_type": "markdown",
   "id": "ae67bfba",
   "metadata": {},
   "source": [
    "## Chest Pain Analysis "
   ]
  },
  {
   "cell_type": "code",
   "execution_count": 13,
   "id": "5dc7fcd7",
   "metadata": {},
   "outputs": [
    {
     "data": {
      "text/plain": [
       "array([3, 2, 1, 0], dtype=int64)"
      ]
     },
     "execution_count": 13,
     "metadata": {},
     "output_type": "execute_result"
    }
   ],
   "source": [
    "#Chest pain type feature analysis\n",
    "dataset[\"cp\"].unique()"
   ]
  },
  {
   "cell_type": "code",
   "execution_count": 14,
   "id": "05d21f65",
   "metadata": {},
   "outputs": [
    {
     "data": {
      "text/plain": [
       "<AxesSubplot:xlabel='cp', ylabel='target'>"
      ]
     },
     "execution_count": 14,
     "metadata": {},
     "output_type": "execute_result"
    },
    {
     "data": {
      "image/png": "[encoded data removed]",
      "text/plain": [
       "<Figure size 640x480 with 1 Axes>"
      ]
     },
     "metadata": {},
     "output_type": "display_data"
    }
   ],
   "source": [
    "# barchart according to chest pain type.\n",
    "sns.barplot(dataset[\"cp\"],y)"
   ]
  },
  {
   "cell_type": "markdown",
   "id": "f4d38d31",
   "metadata": {},
   "source": [
    "##### The CP feature has values ranging from 0 to 3, as expected. We can see from the above chart that those with usual angina, or chest pain with a value of \"0,\" are considerably less likely to have heart problems. "
   ]
  },
  {
   "cell_type": "markdown",
   "id": "6ef967bb",
   "metadata": {},
   "source": [
    "##  Analysing the fasting blood sugar(FBS) feature. "
   ]
  },
  {
   "cell_type": "code",
   "execution_count": 15,
   "id": "752a61b1",
   "metadata": {},
   "outputs": [
    {
     "data": {
      "text/plain": [
       "array([1, 0], dtype=int64)"
      ]
     },
     "execution_count": 15,
     "metadata": {},
     "output_type": "execute_result"
    }
   ],
   "source": [
    "# analysis of fbs\n",
    "dataset[\"fbs\"].unique()"
   ]
  },
  {
   "cell_type": "code",
   "execution_count": 16,
   "id": "94418527",
   "metadata": {},
   "outputs": [
    {
     "data": {
      "text/plain": [
       "<AxesSubplot:xlabel='fbs', ylabel='target'>"
      ]
     },
     "execution_count": 16,
     "metadata": {},
     "output_type": "execute_result"
    },
    {
     "data": {
      "image/png": "[encoded data removed]",
      "text/plain": [
       "<Figure size 640x480 with 1 Axes>"
      ]
     },
     "metadata": {},
     "output_type": "display_data"
    }
   ],
   "source": [
    "# bargraph of fbs\n",
    "sns.barplot(dataset[\"fbs\"],y)"
   ]
  },
  {
   "cell_type": "markdown",
   "id": "e6fe9668",
   "metadata": {},
   "source": [
    "###### The above bar chart shwo a small difference between \"0\" and \"1\".\n"
   ]
  },
  {
   "cell_type": "markdown",
   "id": "14584b06",
   "metadata": {},
   "source": [
    "## Analysis of 'restecg'"
   ]
  },
  {
   "cell_type": "code",
   "execution_count": 17,
   "id": "dd4b9ab6",
   "metadata": {},
   "outputs": [
    {
     "data": {
      "text/plain": [
       "array([0, 1, 2], dtype=int64)"
      ]
     },
     "execution_count": 17,
     "metadata": {},
     "output_type": "execute_result"
    }
   ],
   "source": [
    "# restecg(maximum heart rate achieved)\n",
    "dataset[\"restecg\"].unique()"
   ]
  },
  {
   "cell_type": "code",
   "execution_count": 18,
   "id": "bc0d2d3f",
   "metadata": {},
   "outputs": [
    {
     "data": {
      "text/plain": [
       "<AxesSubplot:xlabel='restecg', ylabel='target'>"
      ]
     },
     "execution_count": 18,
     "metadata": {},
     "output_type": "execute_result"
    },
    {
     "data": {
      "image/png": "[encoded data removed]",
      "text/plain": [
       "<Figure size 640x480 with 1 Axes>"
      ]
     },
     "metadata": {},
     "output_type": "display_data"
    }
   ],
   "source": [
    "# bar graph for maximum heart rate achived\n",
    "sns.barplot(dataset[\"restecg\"],y)"
   ]
  },
  {
   "cell_type": "markdown",
   "id": "e523ae0e",
   "metadata": {},
   "source": [
    "##### We can see from the above chart that individuals with restecgs of 1 and 0 are far more likely to have heart disease than those with restecgs of 2 do."
   ]
  },
  {
   "cell_type": "markdown",
   "id": "c9f70947",
   "metadata": {},
   "source": [
    "## Analysing the 'exang' feature"
   ]
  },
  {
   "cell_type": "code",
   "execution_count": 19,
   "id": "9ffdbb64",
   "metadata": {},
   "outputs": [
    {
     "data": {
      "text/plain": [
       "array([0, 1], dtype=int64)"
      ]
     },
     "execution_count": 19,
     "metadata": {},
     "output_type": "execute_result"
    }
   ],
   "source": [
    "#  exercise induced angina(exang)\n",
    "dataset[\"exang\"].unique()"
   ]
  },
  {
   "cell_type": "code",
   "execution_count": 20,
   "id": "36f7d9c5",
   "metadata": {},
   "outputs": [
    {
     "data": {
      "text/plain": [
       "<AxesSubplot:xlabel='exang', ylabel='target'>"
      ]
     },
     "execution_count": 20,
     "metadata": {},
     "output_type": "execute_result"
    },
    {
     "data": {
      "image/png": "[encoded data removed]",
      "text/plain": [
       "<Figure size 640x480 with 1 Axes>"
      ]
     },
     "metadata": {},
     "output_type": "display_data"
    }
   ],
   "source": [
    "# bargraph for exercise induced angina \n",
    "sns.barplot(dataset[\"exang\"],y)"
   ]
  },
  {
   "cell_type": "markdown",
   "id": "156c5f3b",
   "metadata": {},
   "source": [
    "### According to the above bar graph, those with exang=1, i.e.  exercise-induced angina, are significantly less likely to get heart problems, but those with exang = 0 are more likely to develop heart disease."
   ]
  },
  {
   "cell_type": "markdown",
   "id": "75d40bd8",
   "metadata": {},
   "source": [
    "## Analysing 'Slope'(the slope of the peak exercise ST segment)\n"
   ]
  },
  {
   "cell_type": "code",
   "execution_count": 21,
   "id": "80e2b9c2",
   "metadata": {},
   "outputs": [
    {
     "data": {
      "text/plain": [
       "array([0, 2, 1], dtype=int64)"
      ]
     },
     "execution_count": 21,
     "metadata": {},
     "output_type": "execute_result"
    }
   ],
   "source": [
    "dataset[\"slope\"].unique()"
   ]
  },
  {
   "cell_type": "code",
   "execution_count": 22,
   "id": "d65e9307",
   "metadata": {},
   "outputs": [
    {
     "data": {
      "text/plain": [
       "<AxesSubplot:xlabel='slope', ylabel='target'>"
      ]
     },
     "execution_count": 22,
     "metadata": {},
     "output_type": "execute_result"
    },
    {
     "data": {
      "image/png": "[encoded data removed]",
      "text/plain": [
       "<Figure size 640x480 with 1 Axes>"
      ]
     },
     "metadata": {},
     "output_type": "display_data"
    }
   ],
   "source": [
    "# plotting slope to bargraph\n",
    "sns.barplot(dataset[\"slope\"],y)"
   ]
  },
  {
   "cell_type": "markdown",
   "id": "e5ebf384",
   "metadata": {},
   "source": [
    "#### From the bar graph we can clearly observe, that Slope '2' causes much heart  pain rather  than Slope '0' and '1'.\n"
   ]
  },
  {
   "cell_type": "markdown",
   "id": "267cef25",
   "metadata": {},
   "source": [
    "## Analysing 'ca'(number of major vessels (0-3) colored by flourosopy)"
   ]
  },
  {
   "cell_type": "code",
   "execution_count": 23,
   "id": "a0248334",
   "metadata": {},
   "outputs": [
    {
     "data": {
      "text/plain": [
       "array([0, 2, 1, 3, 4], dtype=int64)"
      ]
     },
     "execution_count": 23,
     "metadata": {},
     "output_type": "execute_result"
    }
   ],
   "source": [
    "#number of major vessels (0-3) colored by flourosopy\n",
    "dataset[\"ca\"].unique()"
   ]
  },
  {
   "cell_type": "code",
   "execution_count": 24,
   "id": "90389a34",
   "metadata": {},
   "outputs": [
    {
     "data": {
      "text/plain": [
       "<AxesSubplot:xlabel='ca', ylabel='target'>"
      ]
     },
     "execution_count": 24,
     "metadata": {},
     "output_type": "execute_result"
    },
    {
     "data": {
      "image/png": "[encoded data removed]",
      "text/plain": [
       "<Figure size 640x480 with 1 Axes>"
      ]
     },
     "metadata": {},
     "output_type": "display_data"
    }
   ],
   "source": [
    "#barchart for ca\n",
    "sns.barplot(dataset[\"ca\"],y)"
   ]
  },
  {
   "cell_type": "markdown",
   "id": "fdcf788b",
   "metadata": {},
   "source": [
    "#### The barchart above shows that patients with ca \"4\" have an incredibly high rate of heart issues."
   ]
  },
  {
   "cell_type": "markdown",
   "id": "c5badf50",
   "metadata": {},
   "source": [
    "## Analysing the 'thal' feature"
   ]
  },
  {
   "cell_type": "code",
   "execution_count": 25,
   "id": "79931908",
   "metadata": {},
   "outputs": [
    {
     "data": {
      "text/plain": [
       "array([1, 2, 3, 0], dtype=int64)"
      ]
     },
     "execution_count": 25,
     "metadata": {},
     "output_type": "execute_result"
    }
   ],
   "source": [
    "dataset[\"thal\"].unique()"
   ]
  },
  {
   "cell_type": "code",
   "execution_count": 26,
   "id": "0b61040a",
   "metadata": {},
   "outputs": [
    {
     "data": {
      "text/plain": [
       "<AxesSubplot:xlabel='thal', ylabel='target'>"
      ]
     },
     "execution_count": 26,
     "metadata": {},
     "output_type": "execute_result"
    },
    {
     "data": {
      "image/png": "[encoded data removed]",
      "text/plain": [
       "<Figure size 640x480 with 1 Axes>"
      ]
     },
     "metadata": {},
     "output_type": "display_data"
    }
   ],
   "source": [
    "sns.barplot(dataset[\"thal\"],y)"
   ]
  },
  {
   "cell_type": "code",
   "execution_count": 27,
   "id": "4c5f376e",
   "metadata": {},
   "outputs": [
    {
     "data": {
      "text/plain": [
       "<AxesSubplot:xlabel='thal', ylabel='Density'>"
      ]
     },
     "execution_count": 27,
     "metadata": {},
     "output_type": "execute_result"
    },
    {
     "data": {
      "image/png": "[encoded data removed]",
      "text/plain": [
       "<Figure size 640x480 with 1 Axes>"
      ]
     },
     "metadata": {},
     "output_type": "display_data"
    }
   ],
   "source": [
    "sns.distplot(dataset[\"thal\"])"
   ]
  },
  {
   "cell_type": "markdown",
   "id": "45afa6c9",
   "metadata": {},
   "source": [
    "## Train Test split\n"
   ]
  },
  {
   "cell_type": "code",
   "execution_count": 28,
   "id": "80cd7607",
   "metadata": {},
   "outputs": [],
   "source": [
    "from sklearn.model_selection import train_test_split\n",
    "\n",
    "predictors = dataset.drop(\"target\",axis=1)\n",
    "target = dataset[\"target\"]\n",
    "\n",
    "X_train,X_test,Y_train,Y_test = train_test_split(predictors,target,test_size=0.20,random_state=0)"
   ]
  },
  {
   "cell_type": "code",
   "execution_count": 29,
   "id": "a5ff0af7",
   "metadata": {},
   "outputs": [
    {
     "data": {
      "text/plain": [
       "(242, 13)"
      ]
     },
     "execution_count": 29,
     "metadata": {},
     "output_type": "execute_result"
    }
   ],
   "source": [
    "X_train.shape"
   ]
  },
  {
   "cell_type": "code",
   "execution_count": 30,
   "id": "a7405432",
   "metadata": {},
   "outputs": [
    {
     "data": {
      "text/plain": [
       "(61, 13)"
      ]
     },
     "execution_count": 30,
     "metadata": {},
     "output_type": "execute_result"
    }
   ],
   "source": [
    "X_test.shape"
   ]
  },
  {
   "cell_type": "code",
   "execution_count": 31,
   "id": "12d56d61",
   "metadata": {},
   "outputs": [
    {
     "data": {
      "text/plain": [
       "(242,)"
      ]
     },
     "execution_count": 31,
     "metadata": {},
     "output_type": "execute_result"
    }
   ],
   "source": [
    "Y_train.shape"
   ]
  },
  {
   "cell_type": "code",
   "execution_count": 32,
   "id": "ee69e1a1",
   "metadata": {},
   "outputs": [
    {
     "data": {
      "text/plain": [
       "(61,)"
      ]
     },
     "execution_count": 32,
     "metadata": {},
     "output_type": "execute_result"
    }
   ],
   "source": [
    "Y_test.shape"
   ]
  },
  {
   "cell_type": "markdown",
   "id": "6c801bc1",
   "metadata": {},
   "source": [
    "## Model fitting"
   ]
  },
  {
   "cell_type": "code",
   "execution_count": 33,
   "id": "acf84536",
   "metadata": {},
   "outputs": [],
   "source": [
    "from sklearn.metrics import accuracy_score"
   ]
  },
  {
   "cell_type": "markdown",
   "id": "0b72c48f",
   "metadata": {},
   "source": [
    "## Logistic Regression\n"
   ]
  },
  {
   "cell_type": "code",
   "execution_count": 34,
   "id": "42916ed1",
   "metadata": {},
   "outputs": [],
   "source": [
    "# import LogisticRegression.\n",
    "from sklearn.linear_model import LogisticRegression\n",
    "logistic_regression = LogisticRegression()\n",
    "logistic_regression.fit(X_train,Y_train)\n",
    "Y_pred_logistic_regression = logistic_regression.predict(X_test)"
   ]
  },
  {
   "cell_type": "code",
   "execution_count": 35,
   "id": "5bc4890e",
   "metadata": {},
   "outputs": [
    {
     "data": {
      "text/plain": [
       "(61,)"
      ]
     },
     "execution_count": 35,
     "metadata": {},
     "output_type": "execute_result"
    }
   ],
   "source": [
    "Y_pred_logistic_regression.shape"
   ]
  },
  {
   "cell_type": "code",
   "execution_count": 36,
   "id": "c7a8643c",
   "metadata": {},
   "outputs": [
    {
     "name": "stdout",
     "output_type": "stream",
     "text": [
      "The accuracy score obtained through the use of Logistic Regression is: 85.246 %\n"
     ]
    }
   ],
   "source": [
    "score_logistic_regression = round(accuracy_score(Y_pred_logistic_regression,Y_test)*100,3)\n",
    "print(\"The accuracy score obtained through the use of Logistic Regression is: \"+str(score_logistic_regression)+\" %\")"
   ]
  },
  {
   "cell_type": "markdown",
   "id": "4c9a9f71",
   "metadata": {},
   "source": [
    "## Decision Tree\n"
   ]
  },
  {
   "cell_type": "code",
   "execution_count": 37,
   "id": "fd4cf5f7",
   "metadata": {},
   "outputs": [],
   "source": [
    "#importing DecisionTreeClassifier\n",
    "from sklearn.tree import DecisionTreeClassifier\n",
    "\n",
    "max_accuracy = 0\n",
    "\n",
    "for x in range(200):\n",
    "    decision_tree = DecisionTreeClassifier(random_state=x)\n",
    "    decision_tree.fit(X_train,Y_train)\n",
    "    Y_pred_decision_tree = decision_tree.predict(X_test)\n",
    "    current_accuracy = round(accuracy_score(Y_pred_decision_tree,Y_test)*100,3)\n",
    "    if(current_accuracy>max_accuracy):\n",
    "        max_accuracy = current_accuracy\n",
    "        best_x = x\n",
    "\n",
    "decision_tree = DecisionTreeClassifier(random_state=best_x)\n",
    "decision_tree.fit(X_train,Y_train)\n",
    "Y_pred_decision_tree = decision_tree.predict(X_test)"
   ]
  },
  {
   "cell_type": "code",
   "execution_count": 38,
   "id": "0016df6b",
   "metadata": {},
   "outputs": [
    {
     "name": "stdout",
     "output_type": "stream",
     "text": [
      "(61,)\n"
     ]
    }
   ],
   "source": [
    "print(Y_pred_decision_tree.shape)"
   ]
  },
  {
   "cell_type": "code",
   "execution_count": 39,
   "id": "8b627898",
   "metadata": {},
   "outputs": [
    {
     "name": "stdout",
     "output_type": "stream",
     "text": [
      "The accuracy score obtained through the use of Decision Tree is: 81.97 %\n"
     ]
    }
   ],
   "source": [
    "score_decision_tree = round(accuracy_score(Y_pred_decision_tree,Y_test)*100,2)\n",
    "print(\"The accuracy score obtained through the use of Decision Tree is: \"+str(score_decision_tree)+\" %\")"
   ]
  },
  {
   "cell_type": "markdown",
   "id": "1b60144b",
   "metadata": {},
   "source": [
    "## Support Vector Machines (SVM) "
   ]
  },
  {
   "cell_type": "code",
   "execution_count": 40,
   "id": "d118c114",
   "metadata": {},
   "outputs": [],
   "source": [
    "# import svm\n",
    "from sklearn import svm\n",
    "svm = svm.SVC(kernel='linear')\n",
    "svm.fit(X_train, Y_train)\n",
    "Y_pred_svm = svm.predict(X_test)"
   ]
  },
  {
   "cell_type": "code",
   "execution_count": 41,
   "id": "9f4b50c9",
   "metadata": {},
   "outputs": [
    {
     "data": {
      "text/plain": [
       "(61,)"
      ]
     },
     "execution_count": 41,
     "metadata": {},
     "output_type": "execute_result"
    }
   ],
   "source": [
    "Y_pred_svm.shape"
   ]
  },
  {
   "cell_type": "code",
   "execution_count": 42,
   "id": "49a79557",
   "metadata": {},
   "outputs": [
    {
     "name": "stdout",
     "output_type": "stream",
     "text": [
      "The accuracy score obtained through the use of SVM is: 81.967 %\n"
     ]
    }
   ],
   "source": [
    "score_svm = round(accuracy_score(Y_pred_svm,Y_test)*100,3)\n",
    "print(\"The accuracy score obtained through the use of SVM is: \"+str(score_svm)+\" %\")"
   ]
  },
  {
   "cell_type": "markdown",
   "id": "6a1f5ca1",
   "metadata": {},
   "source": [
    "## Random Forest."
   ]
  },
  {
   "cell_type": "code",
   "execution_count": 43,
   "id": "7d4df0a7",
   "metadata": {},
   "outputs": [],
   "source": [
    "from sklearn.ensemble import RandomForestClassifier\n",
    "\n",
    "max_accuracy = 0\n",
    "\n",
    "\n",
    "for x in range(2000):\n",
    "    random_forest = RandomForestClassifier(random_state=x)\n",
    "    random_forest.fit(X_train,Y_train)\n",
    "    Y_pred_random_forest = random_forest.predict(X_test)\n",
    "    current_accuracy = round(accuracy_score(Y_pred_random_forest,Y_test)*100,2)\n",
    "    if(current_accuracy>max_accuracy):\n",
    "        max_accuracy = current_accuracy\n",
    "        best_x = x\n",
    "        \n",
    "\n",
    "random_forest = RandomForestClassifier(random_state=best_x)\n",
    "random_forest.fit(X_train,Y_train)\n",
    "Y_pred_random_forest = random_forest.predict(X_test)"
   ]
  },
  {
   "cell_type": "code",
   "execution_count": 44,
   "id": "3ca7fd32",
   "metadata": {},
   "outputs": [
    {
     "data": {
      "text/plain": [
       "(61,)"
      ]
     },
     "execution_count": 44,
     "metadata": {},
     "output_type": "execute_result"
    }
   ],
   "source": [
    "Y_pred_random_forest.shape"
   ]
  },
  {
   "cell_type": "code",
   "execution_count": 45,
   "id": "44810bc2",
   "metadata": {},
   "outputs": [
    {
     "name": "stdout",
     "output_type": "stream",
     "text": [
      "The accuracy score obtained through the use of Random Forest is: 90.164 %\n"
     ]
    }
   ],
   "source": [
    "score_random_forest = round(accuracy_score(Y_pred_random_forest,Y_test)*100,3)\n",
    "\n",
    "print(\"The accuracy score obtained through the use of Random Forest is: \"+str(score_random_forest)+\" %\")"
   ]
  },
  {
   "cell_type": "markdown",
   "id": "60cd1081",
   "metadata": {},
   "source": [
    "## classificaiton report of Random Forest"
   ]
  },
  {
   "cell_type": "code",
   "execution_count": 46,
   "id": "47cbd9f6",
   "metadata": {},
   "outputs": [
    {
     "name": "stdout",
     "output_type": "stream",
     "text": [
      "              precision    recall  f1-score   support\n",
      "\n",
      "           0       0.92      0.85      0.88        27\n",
      "           1       0.89      0.94      0.91        34\n",
      "\n",
      "    accuracy                           0.90        61\n",
      "   macro avg       0.90      0.90      0.90        61\n",
      "weighted avg       0.90      0.90      0.90        61\n",
      "\n"
     ]
    }
   ],
   "source": [
    "from sklearn.metrics import classification_report\n",
    "\n",
    "# Calculate and print classification report\n",
    "report = classification_report(Y_test, Y_pred_random_forest)\n",
    "print(report)"
   ]
  },
  {
   "cell_type": "markdown",
   "id": "7236a9b3",
   "metadata": {},
   "source": [
    "# Confusion Matrix. "
   ]
  },
  {
   "cell_type": "code",
   "execution_count": 47,
   "id": "1d06bde9",
   "metadata": {},
   "outputs": [
    {
     "data": {
      "text/plain": [
       "<sklearn.metrics._plot.confusion_matrix.ConfusionMatrixDisplay at 0x2a5c0bb7d00>"
      ]
     },
     "execution_count": 47,
     "metadata": {},
     "output_type": "execute_result"
    },
    {
     "data": {
      "image/png": "[encoded data removed]",
      "text/plain": [
       "<Figure size 640x480 with 2 Axes>"
      ]
     },
     "metadata": {},
     "output_type": "display_data"
    }
   ],
   "source": [
    "from sklearn.metrics import plot_confusion_matrix\n",
    "\n",
    "# Plot the confusion matrix\n",
    "plot_confusion_matrix(random_forest, X_test, Y_test)"
   ]
  },
  {
   "cell_type": "markdown",
   "id": "91510560",
   "metadata": {},
   "source": [
    "## Final Output."
   ]
  },
  {
   "cell_type": "code",
   "execution_count": 48,
   "id": "06668489",
   "metadata": {},
   "outputs": [
    {
     "name": "stdout",
     "output_type": "stream",
     "text": [
      "The accuracy score achieved using Logistic Regression is: 85.246 %\n",
      "The accuracy score achieved using Support Vector Machine is: 81.967 %\n",
      "The accuracy score achieved using Decision Tree is: 81.97 %\n",
      "The accuracy score achieved using Random Forest is: 90.164 %\n"
     ]
    }
   ],
   "source": [
    "# accuracy score for diffrent algorithms\n",
    "scores = [score_logistic_regression,score_svm,score_decision_tree,score_random_forest]\n",
    "algorithms = [\"Logistic Regression\",\"Support Vector Machine\",\"Decision Tree\",\"Random Forest\"]    \n",
    "\n",
    "for i in range(len(algorithms)):\n",
    "    print(\"The accuracy score achieved using \"+algorithms[i]+\" is: \"+str(scores[i])+\" %\")"
   ]
  },
  {
   "cell_type": "code",
   "execution_count": 49,
   "id": "5b7053ad",
   "metadata": {},
   "outputs": [
    {
     "data": {
      "text/plain": [
       "<AxesSubplot:xlabel='Algorithms', ylabel='Accuracy score'>"
      ]
     },
     "execution_count": 49,
     "metadata": {},
     "output_type": "execute_result"
    },
    {
     "data": {
      "image/png": "[encoded data removed]",
      "text/plain": [
       "<Figure size 1000x600 with 1 Axes>"
      ]
     },
     "metadata": {},
     "output_type": "display_data"
    }
   ],
   "source": [
    "sns.set(rc={'figure.figsize':(10,6)})\n",
    "plt.xlabel(\"Algorithms\")\n",
    "plt.ylabel(\"Accuracy score\")\n",
    "\n",
    "sns.barplot(algorithms,scores)"
   ]
  },
  {
   "cell_type": "markdown",
   "id": "b4cfd563",
   "metadata": {},
   "source": [
    "###### From the final output of the prototype Random forest have the highest accuracy score 90.164 among the four algorithm for heart disease prediction. "
   ]
  },
  {
   "cell_type": "code",
   "execution_count": null,
   "id": "c8cfcebb",
   "metadata": {},
   "outputs": [],
   "source": [
    " "
   ]
  }
 ],
 "metadata": {
  "kernelspec": {
   "display_name": "Python 3 (ipykernel)",
   "language": "python",
   "name": "python3"
  },
  "language_info": {
   "codemirror_mode": {
    "name": "ipython",
    "version": 3
   },
   "file_extension": ".py",
   "mimetype": "text/x-python",
   "name": "python",
   "nbconvert_exporter": "python",
   "pygments_lexer": "ipython3",
   "version": "3.9.13"
  }
 },
 "nbformat": 4,
 "nbformat_minor": 5
}
